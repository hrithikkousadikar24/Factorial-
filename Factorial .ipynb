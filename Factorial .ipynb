{
 "cells": [
  {
   "cell_type": "code",
   "execution_count": 8,
   "id": "ab09ed0f",
   "metadata": {},
   "outputs": [
    {
     "name": "stdout",
     "output_type": "stream",
     "text": [
      "\n",
      "\n",
      "Enter the number for which you need to find the factorial:6\n",
      "The factorial of 6 is 720\n"
     ]
    }
   ],
   "source": [
    "n=int(input('\\n\\nEnter the number for which you need to find the factorial:'))\n",
    "fact=1\n",
    "for i in range(1,n+1):\n",
    " fact=fact*i\n",
    "print('The factorial of {0} is {1}'.format(n,fact))\n"
   ]
  }
 ],
 "metadata": {
  "kernelspec": {
   "display_name": "Python 3 (ipykernel)",
   "language": "python",
   "name": "python3"
  },
  "language_info": {
   "codemirror_mode": {
    "name": "ipython",
    "version": 3
   },
   "file_extension": ".py",
   "mimetype": "text/x-python",
   "name": "python",
   "nbconvert_exporter": "python",
   "pygments_lexer": "ipython3",
   "version": "3.10.1"
  }
 },
 "nbformat": 4,
 "nbformat_minor": 5
}
